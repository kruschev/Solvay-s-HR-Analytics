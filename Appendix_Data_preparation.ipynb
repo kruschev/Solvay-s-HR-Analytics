{
 "cells": [
  {
   "cell_type": "markdown",
   "metadata": {},
   "source": [
    "## Data cleaning and feature engineering"
   ]
  },
  {
   "cell_type": "markdown",
   "metadata": {},
   "source": [
    "### 1. Preprocessing raw data"
   ]
  },
  {
   "cell_type": "code",
   "execution_count": 11,
   "metadata": {
    "collapsed": true
   },
   "outputs": [],
   "source": [
    "import glob, os\n",
    "\n",
    "import pandas as pd\n",
    "import numpy as np"
   ]
  },
  {
   "cell_type": "code",
   "execution_count": 12,
   "metadata": {
    "collapsed": true
   },
   "outputs": [],
   "source": [
    "from IPython.display import display\n",
    "pd.options.display.max_columns = None"
   ]
  },
  {
   "cell_type": "code",
   "execution_count": 13,
   "metadata": {
    "collapsed": true
   },
   "outputs": [],
   "source": [
    "#Concatenate 7 years into 1 evaluation and 1 employee table\n",
    "eva = pd.concat(map(pd.read_csv, glob.glob(os.path.join('', \"eval_201*.csv\"))))\n",
    "emp = pd.concat(map(pd.read_csv, glob.glob(os.path.join('', \"employee_201*.csv\"))))"
   ]
  },
  {
   "cell_type": "code",
   "execution_count": 14,
   "metadata": {
    "collapsed": true
   },
   "outputs": [],
   "source": [
    "#Merge the eva and emp tables into 1 Dataframe (df), on ['employee_id', 'year'] key combination\n",
    "df = pd.merge(eva, emp, how='outer', on=['employee_id', 'year'])"
   ]
  },
  {
   "cell_type": "code",
   "execution_count": 15,
   "metadata": {
    "collapsed": true
   },
   "outputs": [],
   "source": [
    "#Converting the age_range column from string to numeric values. For example '30-39' age range will become 3. \n",
    "#People less than 20 years old are assigned 1 and people older than 70 years old are assigned 7.\n",
    "df['age_range'] = df['age_range'].astype(str).str[0]\n",
    "\n",
    "df['age_range'] = df['age_range'].str.replace('>','7')\n",
    "df['age_range'] = df['age_range'].str.replace('<','1')\n",
    "df['age_range'] = df['age_range'].str.replace('n','')\n",
    "\n",
    "df['age_range'] = pd.to_numeric(df['age_range'])"
   ]
  },
  {
   "cell_type": "code",
   "execution_count": 16,
   "metadata": {
    "collapsed": true
   },
   "outputs": [],
   "source": [
    "#Some department (fn_area) changed name, thus some cleaning needs to be made.\n",
    "df.replace({'LEGAL & REGULATIONS':'LEGAL & COMPLIANCE', 'RESEARCH & DEVELOPMENT':'RESEARCH & INNOVATION', 'SUPPLY CHAIN & PURCHASING':'SUPPLY CHAIN', 'PUBLIC AFFAIRS & COMMUNICATION':'PUBLIC AFFAIRS'}, inplace=True)"
   ]
  },
  {
   "cell_type": "code",
   "execution_count": 17,
   "metadata": {},
   "outputs": [
    {
     "data": {
      "text/plain": [
       "{'COMMERCIAL': 'area1',\n",
       " 'COMMUNICATION': 'area2',\n",
       " 'FINANCE': 'area3',\n",
       " 'GENERAL MANAGEMENT': 'area4',\n",
       " 'HSEQ AND ORGANISATIONAL PERFORMANCE': 'area5',\n",
       " 'HUMAN RESOURCES': 'area6',\n",
       " 'INDUSTRIAL': 'area7',\n",
       " 'INFORMATION & KNOWLEDGE': 'area8',\n",
       " 'INTELLECTUAL ASSETS': 'area9',\n",
       " 'LEGAL & COMPLIANCE': 'area10',\n",
       " 'MANUFACTURING': 'area11',\n",
       " 'MARKETING AND SALES': 'area12',\n",
       " 'Not assigned': 'area13',\n",
       " 'PROCUREMENT': 'area14',\n",
       " 'PUBLIC AFFAIRS': 'area15',\n",
       " 'QUALITY & PERFORMANCE': 'area16',\n",
       " 'RESEARCH & INNOVATION': 'area17',\n",
       " 'SUPPLY CHAIN': 'area18',\n",
       " 'SUPPORT': 'area19'}"
      ]
     },
     "execution_count": 17,
     "metadata": {},
     "output_type": "execute_result"
    }
   ],
   "source": [
    "#Assign a label to each function area\n",
    "x = sorted(df['fn_area'].dropna().unique())\n",
    "\n",
    "d = {}\n",
    "for i in range(19):\n",
    "    d[x[i]] = 'area'+str(i+1)\n",
    "d"
   ]
  },
  {
   "cell_type": "code",
   "execution_count": 18,
   "metadata": {
    "collapsed": true
   },
   "outputs": [],
   "source": [
    "#Sort the df by employee_id and then year, which is the most efficient structure for manipulating data\n",
    "df.sort_values(by=['employee_id', 'year'], inplace=True)\n",
    "df.reset_index(drop=True, inplace=True)"
   ]
  },
  {
   "cell_type": "code",
   "execution_count": null,
   "metadata": {
    "collapsed": true
   },
   "outputs": [],
   "source": [
    "df.tail()"
   ]
  },
  {
   "cell_type": "markdown",
   "metadata": {},
   "source": [
    "### 2. Imputing missing values"
   ]
  },
  {
   "cell_type": "code",
   "execution_count": 19,
   "metadata": {
    "collapsed": true
   },
   "outputs": [],
   "source": [
    "#It is much more efficient to create shifting columns and then do vectorized operation, then looping through the whole df.\n",
    "df['prev_employee_id'] = df['employee_id'].shift()\n",
    "df['next_employee_id'] = df['employee_id'].shift(periods=-1)"
   ]
  },
  {
   "cell_type": "markdown",
   "metadata": {},
   "source": [
    "#### Filling age_range"
   ]
  },
  {
   "cell_type": "code",
   "execution_count": 20,
   "metadata": {
    "collapsed": true
   },
   "outputs": [],
   "source": [
    "#if an employee has at least 1 record with age and other records missing age, use the available age to fill the missing records.\n",
    "for i in range(8):\n",
    "    df['prev_age'] = df['age_range'].shift()\n",
    "    df['next_age'] = df['age_range'].shift(periods=-1)\n",
    "\n",
    "    df['age_range'] = np.where(df['age_range'].isnull() & (df['employee_id'] == df['prev_employee_id']), df['prev_age'], df['age_range'])\n",
    "    df['age_range'] = np.where(df['age_range'].isnull() & (df['employee_id'] == df['next_employee_id']), df['next_age'], df['age_range'])\n",
    "\n",
    "#if an employee has no record with age, first determine if the employee is or used to be a manager\n",
    "list_managers = df['manager_id'].unique()\n",
    "df['is_manager'] = np.where(df['employee_id'].isin(list_managers), 1, 0)\n",
    "\n",
    "#next calculate the average age of manager-employees and nonmanager-employees\n",
    "unique_emp_first = df[~df.duplicated(subset=['employee_id'], keep='first')]\n",
    "unique_emp_last = df[~df.duplicated(subset=['employee_id'], keep='last')]\n",
    "\n",
    "avg_age_manager = (unique_emp_first[unique_emp_first['is_manager'] == 1]['age_range'].mean() + unique_emp_last[unique_emp_last['is_manager'] == 1]['age_range'].mean())/2\n",
    "avg_age_non_manager = (unique_emp_first[unique_emp_first['is_manager'] == 0]['age_range'].mean() + unique_emp_last[unique_emp_last['is_manager'] == 0]['age_range'].mean())/2\n",
    "\n",
    "#use the average ages to fill the missing records accordingly.\n",
    "df['age_range'] = np.where(df['age_range'].isnull() & (df['is_manager'] == 1), avg_age_manager, np.where(df['age_range'].isnull() & (df['is_manager'] == 0), avg_age_non_manager, df['age_range']))"
   ]
  },
  {
   "cell_type": "markdown",
   "metadata": {},
   "source": [
    "#### Filling fn_class and seniority_fn"
   ]
  },
  {
   "cell_type": "code",
   "execution_count": 21,
   "metadata": {
    "collapsed": true
   },
   "outputs": [],
   "source": [
    "#This is the main function that fills in missing values in fn_class and seniority_fn. \n",
    "    #The loop is to ensure new correct information is updated after each iteration. There are 8 years so we run it 8 times.\n",
    "def fn_loop():\n",
    "    for i in range(8):\n",
    "        df['prev_fn_class'] = df['fn_class'].shift()\n",
    "        df['next_fn_class'] = df['fn_class'].shift(periods=-1)\n",
    "\n",
    "        df['prev_seniority_fn'] = df['seniority_fn'].shift()\n",
    "        df['next_seniority_fn'] = df['seniority_fn'].shift(periods=-1)\n",
    "        \n",
    "        #Many records have missing fn_class. However, some can be implied with 99% confidence \n",
    "            #by looking at the previous year and/or next year record.\n",
    "        df['fn_class'] = np.where((df['employee_id'] == df['prev_employee_id']) & (df['fn_class'].isnull()) & (df['seniority_fn'].notnull()), df['prev_fn_class'], df['fn_class'])\n",
    "        df['fn_class'] = np.where((df['employee_id'] == df['next_employee_id']) & (df['fn_class'].isnull()) & (df['next_seniority_fn'].notnull()) & (df['next_seniority_fn'] > 11), df['next_fn_class'], df['fn_class'])\n",
    "        df['fn_class'] = np.where((df['employee_id'] == df['next_employee_id']) & (df['employee_id'] == df['prev_employee_id']) & (df['fn_class'].isnull()) & (df['next_seniority_fn'].notnull()) & (df['next_seniority_fn'] <= 11), df['prev_fn_class'], df['fn_class'])\n",
    "        df['fn_class'] = np.where((df['employee_id'] == df['next_employee_id']) & (df['fn_class'].isnull()) & (df['seniority_fn'].notnull()), df['next_fn_class'], df['fn_class'])\n",
    "\n",
    "        for j in range(8):\n",
    "            df['prev_seniority_fn'] = df['seniority_fn'].shift()\n",
    "            df['next_seniority_fn'] = df['seniority_fn'].shift(periods=-1)\n",
    "\n",
    "            df['prev_year'] = df['year'].shift()\n",
    "            df['next_year'] = df['year'].shift(periods=-1)\n",
    "            \n",
    "            #Many missing records in seniority_fn also follow certain patterns and can be be filled with these logics.\n",
    "            df['seniority_fn'] = np.where((df['employee_id'] == df['next_employee_id']) & (df['seniority_fn'].isnull()) & (df['next_seniority_fn'] == 12), 0, df['seniority_fn'])\n",
    "            df['seniority_fn'] = np.where((df['employee_id'] == df['next_employee_id']) & (df['seniority_fn'].isnull()) & (df['fn_class'].notnull()) & (df['next_seniority_fn']-(df['next_year'] - df['year'])*12 >= 0), (df['next_seniority_fn']-(df['next_year'] - df['year'])*12), df['seniority_fn'])\n",
    "            df['seniority_fn'] = np.where((df['employee_id'] == df['next_employee_id']) & (df['employee_id'] == df['prev_employee_id']) & (df['seniority_fn'].isnull()) & (df['fn_class'].notnull()) & (df['next_seniority_fn']-(df['next_year'] - df['year'])*12 < 0), (df['prev_seniority_fn']+(df['year'] - df['prev_year'])*12), df['seniority_fn'])\n",
    "            df['seniority_fn'] = np.where((df['employee_id'] == df['prev_employee_id']) & (df['seniority_fn'].notnull()) & (df['fn_class'] == df['prev_fn_class']) & (df['seniority_fn'] < (df['prev_seniority_fn']+12)), (df['prev_seniority_fn']+(df['year'] - df['prev_year'])*12), df['seniority_fn'])\n",
    "\n",
    "fn_loop()"
   ]
  },
  {
   "cell_type": "code",
   "execution_count": 22,
   "metadata": {
    "collapsed": true
   },
   "outputs": [],
   "source": [
    "#If the above logics still can't solve missing seniority and the employee has a function class,\n",
    "    #we assume that it is his first year in the current class and assign 11 to it.\n",
    "def seniority_fn():\n",
    "    df['seniority_fn'] = np.where(df['fn_class'].notnull() & df['seniority_fn'].isnull(), 11, df['seniority_fn'])\n",
    "\n",
    "seniority_fn()\n",
    "#run the fn_loop again to ensure there is no inconsistency after the seniority_fn update\n",
    "fn_loop()"
   ]
  },
  {
   "cell_type": "code",
   "execution_count": 23,
   "metadata": {
    "collapsed": true
   },
   "outputs": [],
   "source": [
    "#Here we check the fn_class of the employee's manager\n",
    "man_emp = df[df['is_manager'] == 1]\n",
    "\n",
    "mapper = man_emp[['employee_id', 'year', 'fn_class']].set_index(['employee_id', 'year'])['fn_class'].to_dict()\n",
    "df['manager_fn_class'] = df.set_index(['manager_id', 'year']).index.map(mapper.get)\n",
    "\n",
    "#If our confident logics still can't solve missing fn_class and the employee has a seniority_fn number,\n",
    "    #we assume that he must have a fn_class and assign the manager_fn_class minus 3 to him.\n",
    "    #Our rationale is that manager_fn_class usually equals employee's fn_class + 3.\n",
    "df['fn_class'] = np.where(df['fn_class'].isnull() & df['seniority_fn'].notnull() & df['manager_fn_class'].notnull(), df['manager_fn_class']-3, df['fn_class'])\n",
    "\n",
    "#However fn_class cannot get below 15. Hence the check.\n",
    "df['fn_class'] = np.where(df['fn_class']<15, 15, df['fn_class'])"
   ]
  },
  {
   "cell_type": "markdown",
   "metadata": {},
   "source": [
    "#### Filling bus_supp, fn_area, job_id and some leftover fn_class"
   ]
  },
  {
   "cell_type": "code",
   "execution_count": 24,
   "metadata": {
    "collapsed": true
   },
   "outputs": [],
   "source": [
    "#Here we find the employee's manager's bus_supp and fn_area\n",
    "mapper = man_emp[['employee_id', 'year', 'bus_supp']].set_index(['employee_id', 'year'])['bus_supp'].to_dict()\n",
    "df['manager_bus_supp'] = df.set_index(['manager_id', 'year']).index.map(mapper.get)\n",
    "\n",
    "mapper = man_emp[['employee_id', 'year', 'fn_area']].set_index(['employee_id', 'year'])['fn_area'].to_dict()\n",
    "df['manager_fn_area'] = df.set_index(['manager_id', 'year']).index.map(mapper.get)\n",
    "\n",
    "df['prev_manager_id'] = df['manager_id'].shift()\n",
    "df['next_manager_id'] = df['manager_id'].shift(periods=-1)\n",
    "\n",
    "#We'll need to use this shift function many times\n",
    "def update2():    \n",
    "    df['prev_fn_class'] = df['fn_class'].shift()\n",
    "    df['next_fn_class'] = df['fn_class'].shift(periods=-1)\n",
    "\n",
    "    df['prev_bus_supp'] = df['bus_supp'].shift()\n",
    "    df['next_bus_supp'] = df['bus_supp'].shift(periods=-1)\n",
    "\n",
    "    df['prev_fn_area'] = df['fn_area'].shift()\n",
    "    df['next_fn_area'] = df['fn_area'].shift(periods=-1)\n",
    "\n",
    "    df['prev_job_id'] = df['job_id'].shift()\n",
    "    df['next_job_id'] = df['job_id'].shift(periods=-1)"
   ]
  },
  {
   "cell_type": "code",
   "execution_count": 25,
   "metadata": {
    "collapsed": true
   },
   "outputs": [],
   "source": [
    "#Here we fill the bus_supp, fn_area, job_id and some more fn_class. \n",
    "    #Our best guess is that those features will be the same if the employee still have the same manager.\n",
    "for i in range(8):\n",
    "    update2()\n",
    "\n",
    "    df['fn_class'] = np.where((df['fn_class'].isnull()) & (df['manager_id'] == df['prev_manager_id']) & (df['employee_id'] == df['prev_employee_id']), df['prev_fn_class'], df['fn_class'])\n",
    "    df['fn_class'] = np.where((df['fn_class'].isnull()) & (df['manager_id'] == df['next_manager_id']) & (df['employee_id'] == df['next_employee_id']), df['next_fn_class'], df['fn_class'])\n",
    "\n",
    "    df['bus_supp'] = np.where((df['bus_supp'].isnull()) & (df['manager_id'] == df['prev_manager_id']) & (df['employee_id'] == df['prev_employee_id']), df['prev_bus_supp'], df['bus_supp'])\n",
    "    df['bus_supp'] = np.where((df['bus_supp'].isnull()) & (df['manager_id'] == df['next_manager_id']) & (df['employee_id'] == df['next_employee_id']), df['next_bus_supp'], df['bus_supp'])\n",
    "\n",
    "    df['fn_area'] = np.where((df['fn_area'].isnull()) & (df['manager_id'] == df['prev_manager_id']) & (df['employee_id'] == df['prev_employee_id']), df['prev_fn_area'], df['fn_area'])\n",
    "    df['fn_area'] = np.where((df['fn_area'].isnull()) & (df['manager_id'] == df['next_manager_id']) & (df['employee_id'] == df['next_employee_id']), df['next_fn_area'], df['fn_area'])\n",
    "\n",
    "    df['job_id'] = np.where((df['job_id'].isnull()) & (df['manager_id'] == df['prev_manager_id']) & (df['employee_id'] == df['prev_employee_id']), df['prev_job_id'], df['job_id'])\n",
    "    df['job_id'] = np.where((df['job_id'].isnull()) & (df['manager_id'] == df['next_manager_id']) & (df['employee_id'] == df['next_employee_id']), df['next_job_id'], df['job_id'])"
   ]
  },
  {
   "cell_type": "code",
   "execution_count": 26,
   "metadata": {
    "collapsed": true
   },
   "outputs": [],
   "source": [
    "#Here we try to fill the same things, but more agressive this time. We want to target those observations with an obj \n",
    "    #or noc score, since those observations are valuable and we want to retain as much information as possible.\n",
    "for j in range(8):\n",
    "    update2()\n",
    "\n",
    "    df['fn_class'] = np.where((df['fn_class'].isnull()) & ((df['obj'].notnull())|(df['noc'].notnull())) & (df['employee_id'] == df['prev_employee_id']), df['prev_fn_class'], df['fn_class'])\n",
    "    df['fn_class'] = np.where((df['fn_class'].isnull()) & ((df['obj'].notnull())|(df['noc'].notnull())) & (df['employee_id'] == df['next_employee_id']), df['next_fn_class'], df['fn_class'])\n",
    "\n",
    "    df['bus_supp'] = np.where((df['bus_supp'].isnull()) & ((df['obj'].notnull())|(df['noc'].notnull())) & (df['employee_id'] == df['prev_employee_id']), df['prev_bus_supp'], df['bus_supp'])\n",
    "    df['bus_supp'] = np.where((df['bus_supp'].isnull()) & ((df['obj'].notnull())|(df['noc'].notnull())) & (df['employee_id'] == df['prev_employee_id']), df['next_bus_supp'], df['bus_supp'])\n",
    "\n",
    "    df['fn_area'] = np.where((df['fn_area'].isnull()) & ((df['obj'].notnull())|(df['noc'].notnull())) & (df['employee_id'] == df['prev_employee_id']), df['prev_fn_area'], df['fn_area'])\n",
    "    df['fn_area'] = np.where((df['fn_area'].isnull()) & ((df['obj'].notnull())|(df['noc'].notnull())) & (df['employee_id'] == df['prev_employee_id']), df['next_fn_area'], df['fn_area'])\n",
    "\n",
    "    df['job_id'] = np.where((df['job_id'].isnull()) & ((df['obj'].notnull())|(df['noc'].notnull())) & (df['employee_id'] == df['prev_employee_id']), df['prev_job_id'], df['job_id'])\n",
    "    df['job_id'] = np.where((df['job_id'].isnull()) & ((df['obj'].notnull())|(df['noc'].notnull())) & (df['employee_id'] == df['prev_employee_id']), df['next_job_id'], df['job_id'])\n",
    "\n",
    "#run these loops again to maintain consistency in data.\n",
    "seniority_fn()\n",
    "fn_loop()"
   ]
  },
  {
   "cell_type": "code",
   "execution_count": 27,
   "metadata": {
    "collapsed": true
   },
   "outputs": [],
   "source": [
    "#Our last resort, if the employee has no previous or future information at all, is to copy the manager information.\n",
    "df['bus_supp'] = np.where(df['bus_supp'].isnull(), df['manager_bus_supp'], df['bus_supp'])\n",
    "df['fn_area'] = np.where(df['fn_area'].isnull(), df['manager_fn_area'], df['fn_area'])"
   ]
  },
  {
   "cell_type": "markdown",
   "metadata": {},
   "source": [
    "Filling length service"
   ]
  },
  {
   "cell_type": "code",
   "execution_count": 28,
   "metadata": {
    "collapsed": true
   },
   "outputs": [],
   "source": [
    "mode_length_service = df[df['year'] == 2010]['length_service'].mode()[0]\n",
    "\n",
    "def update3():\n",
    "    df['prev_length_service'] = df['length_service'].shift()\n",
    "    df['next_length_service'] = df['length_service'].shift(periods=-1)"
   ]
  },
  {
   "cell_type": "code",
   "execution_count": 29,
   "metadata": {
    "collapsed": true
   },
   "outputs": [],
   "source": [
    "#Use adjacent information (next year) to guess the correct value of length_service\n",
    "for i in range(8):\n",
    "    update3()\n",
    "    df['length_service'] = np.where((df['length_service'].isnull()) & (df['employee_id'] == df['next_employee_id']) & (df['next_length_service'] > 0), df['next_length_service']-(df['next_year']-df['year']), df['length_service'])\n",
    "\n",
    "#If the observation is in 2010 and is missing length_service, we fill it with the mode value,\n",
    "    #since we can't know when the employee started in the company. If it's in another year, we know it'll likely be 0.\n",
    "df['length_service'] = np.where((df['length_service'].isnull()) & (df['employee_id'] != df['prev_employee_id']) & (df['year'] == 2010), mode_length_service, df['length_service'])\n",
    "df['length_service'] = np.where((df['length_service'].isnull()) & (df['employee_id'] != df['prev_employee_id']) & (df['year'] != 2010), 0, df['length_service'])\n",
    "\n",
    "#Use adjacent information (previous year) to guess the correct value of length_service\n",
    "for j in range(8):\n",
    "    update3()\n",
    "    df['length_service'] = np.where((df['length_service'].isnull()) & (df['prev_length_service'].notnull()) & (df['employee_id'] == df['prev_employee_id']), df['prev_length_service']+(df['year']-df['prev_year']), df['length_service'])\n",
    "\n",
    "#Sometimes length_service this year is not consistent with previous year (it should be previous year + 1). \n",
    "    #Here we try to correct it.\n",
    "for k in range(8):\n",
    "    update3()\n",
    "    df['length_service'] = np.where((df['employee_id'] == df['prev_employee_id']) & (df['prev_length_service'].notnull()) & (df['length_service'] != (df['prev_length_service']+(df['year']-df['prev_year']))), df['prev_length_service']+(df['year']-df['prev_year']), df['length_service'])"
   ]
  },
  {
   "cell_type": "markdown",
   "metadata": {},
   "source": [
    "#### Filling job length and leftover bus_supp, fn_area and job_id"
   ]
  },
  {
   "cell_type": "code",
   "execution_count": 30,
   "metadata": {
    "collapsed": true
   },
   "outputs": [],
   "source": [
    "#We notice that the length_service data is reversed for some employees. Here we try to correct that.\n",
    "for i in range(8):\n",
    "    df['prev_seniority_job_mnths'] = df['seniority_job_mnths'].shift()\n",
    "    df['next_seniority_job_mnths'] = df['seniority_job_mnths'].shift(periods=-1)\n",
    "    \n",
    "    df['seniority_job_mnths'] = np.where((df['employee_id'] == df['next_employee_id']) & (df['seniority_job_mnths'] == df['next_seniority_job_mnths']+(df['next_year']-df['year'])*12), df['next_seniority_job_mnths'], df['seniority_job_mnths'])"
   ]
  },
  {
   "cell_type": "code",
   "execution_count": 31,
   "metadata": {
    "collapsed": true
   },
   "outputs": [],
   "source": [
    "#We fill these columns with some placeholder unknown values, so we don't have to drop them when running our models.\n",
    "df['bus_supp'] = np.where(df['bus_supp'].isnull(), 'Unknown', df['bus_supp'])\n",
    "df['fn_area'] = np.where(df['fn_area'].isnull(), 'Not assigned', df['fn_area'])\n",
    "#We are pretty confident that 'be56b1a06b8ca176c8da6514bfcb1054' means unknown job.\n",
    "df['job_id'] = np.where(df['job_id'].isnull(), 'be56b1a06b8ca176c8da6514bfcb1054', df['job_id'])"
   ]
  },
  {
   "cell_type": "code",
   "execution_count": 32,
   "metadata": {
    "collapsed": true
   },
   "outputs": [],
   "source": [
    "#Here we try to recover more information. If the seniority_job_mnths are consistent between 2 adjacent records,\n",
    "    #we are pretty confident that the job, bus_supp and fn_area are the same.\n",
    "for j in range(8):\n",
    "    update2()\n",
    "    \n",
    "    df['bus_supp'] = np.where((df['bus_supp'] == 'Unknown') & (df['employee_id'] == df['prev_employee_id']) & (df['seniority_job_mnths'] == df['prev_seniority_job_mnths']+(df['year']-df['prev_year'])*12), df['prev_bus_supp'], df['bus_supp'])\n",
    "    df['bus_supp'] = np.where((df['bus_supp'] == 'Unknown') & (df['employee_id'] == df['next_employee_id']) & (df['seniority_job_mnths'] == df['next_seniority_job_mnths']-(df['next_year']-df['year'])*12), df['next_bus_supp'], df['bus_supp'])\n",
    "    \n",
    "    df['fn_area'] = np.where((df['fn_area'] == 'Not assigned') & (df['employee_id'] == df['prev_employee_id']) & (df['seniority_job_mnths'] == df['prev_seniority_job_mnths']+(df['year']-df['prev_year'])*12), df['prev_fn_area'], df['fn_area'])\n",
    "    df['fn_area'] = np.where((df['fn_area'] == 'Not assigned') & (df['employee_id'] == df['next_employee_id']) & (df['seniority_job_mnths'] == df['next_seniority_job_mnths']-(df['next_year']-df['year'])*12), df['next_fn_area'], df['fn_area'])\n",
    "    \n",
    "    df['job_id'] = np.where((df['job_id'] == 'be56b1a06b8ca176c8da6514bfcb1054') & (df['employee_id'] == df['prev_employee_id']) & (df['seniority_job_mnths'] == df['prev_seniority_job_mnths']+(df['year']-df['prev_year'])*12), df['prev_job_id'], df['job_id'])\n",
    "    df['job_id'] = np.where((df['job_id'] == 'be56b1a06b8ca176c8da6514bfcb1054') & (df['employee_id'] == df['next_employee_id']) & (df['seniority_job_mnths'] == df['next_seniority_job_mnths']-(df['next_year']-df['year'])*12), df['next_job_id'], df['job_id'])"
   ]
  },
  {
   "cell_type": "code",
   "execution_count": 33,
   "metadata": {
    "collapsed": true
   },
   "outputs": [],
   "source": [
    "#Filling the rest of seniority_job_mnths\n",
    "for k in range(8):\n",
    "    df['prev_seniority_job_mnths'] = df['seniority_job_mnths'].shift()\n",
    "    df['next_seniority_job_mnths'] = df['seniority_job_mnths'].shift(periods=-1)\n",
    "    \n",
    "    df['seniority_job_mnths'] = np.where((df['seniority_job_mnths'].isnull()) & (df['employee_id'] == df['next_employee_id']) & (df['job_id'] == df['next_job_id']) & (df['next_seniority_job_mnths']>=(df['next_year']-df['year'])*12), df['next_seniority_job_mnths']-(df['next_year']-df['year'])*12, df['seniority_job_mnths'])\n",
    "\n",
    "df['seniority_job_mnths'] = np.where((df['seniority_job_mnths'].isnull()) & ((df['job_id'] != df['prev_job_id'])|(df['employee_id'] != df['prev_employee_id'])), 0, df['seniority_job_mnths'])\n",
    "    \n",
    "for l in range(8):\n",
    "    df['prev_seniority_job_mnths'] = df['seniority_job_mnths'].shift()\n",
    "    df['next_seniority_job_mnths'] = df['seniority_job_mnths'].shift(periods=-1)\n",
    "    \n",
    "    df['seniority_job_mnths'] = np.where((df['seniority_job_mnths'].isnull()) & (df['employee_id'] == df['prev_employee_id']) & (df['job_id'] == df['prev_job_id']), df['prev_seniority_job_mnths']+(df['year']-df['prev_year'])*12, df['seniority_job_mnths'])\n",
    "    df['seniority_job_mnths'] = np.where((df['seniority_job_mnths'].notnull()) & (df['employee_id'] == df['prev_employee_id']) & (df['job_id'] == df['prev_job_id']) & (df['seniority_job_mnths'] != df['prev_seniority_job_mnths']+(df['year']-df['prev_year'])*12), df['prev_seniority_job_mnths']+(df['year']-df['prev_year'])*12, df['seniority_job_mnths'])"
   ]
  },
  {
   "cell_type": "markdown",
   "metadata": {},
   "source": [
    "### 3. Feature engineering: creating additional features from original data"
   ]
  },
  {
   "cell_type": "raw",
   "metadata": {},
   "source": [
    "See the Appendix <Additional Features.pdf> for a full description of the additional variables"
   ]
  },
  {
   "cell_type": "code",
   "execution_count": 34,
   "metadata": {
    "collapsed": true
   },
   "outputs": [],
   "source": [
    "df = df.loc[:,:'seniority_job_mnths']"
   ]
  },
  {
   "cell_type": "code",
   "execution_count": 35,
   "metadata": {
    "collapsed": true
   },
   "outputs": [],
   "source": [
    "#Create dummy columns for bus_supp\n",
    "bus_supp_dummy = pd.get_dummies(df['bus_supp'])\n",
    "bus_supp_dummy.columns = ['business', 'support', 'unknown']\n",
    "df = pd.concat([df.loc[:,:'bus_supp'], bus_supp_dummy, df.loc[:,'fn_area':]], axis=1)"
   ]
  },
  {
   "cell_type": "code",
   "execution_count": 36,
   "metadata": {
    "collapsed": true
   },
   "outputs": [],
   "source": [
    "#Create an area code column based on the dictionary d at the beginning of the notebook.\n",
    "df['fn_area_code'] = df['fn_area'].map(d)"
   ]
  },
  {
   "cell_type": "code",
   "execution_count": 37,
   "metadata": {
    "collapsed": true
   },
   "outputs": [],
   "source": [
    "#Create dummy columns for fn_area\n",
    "fn_area_dummy = pd.get_dummies(df['fn_area_code'])\n",
    "fn_area_dummy = fn_area_dummy.reindex(columns=sorted(fn_area_dummy.columns.values, key=lambda x: int(x[4:])))\n",
    "df = pd.concat([df.loc[:,:'fn_area'], df['fn_area_code'], fn_area_dummy, df.loc[:,'job_id':'seniority_job_mnths']], axis=1)"
   ]
  },
  {
   "cell_type": "code",
   "execution_count": 38,
   "metadata": {
    "collapsed": true
   },
   "outputs": [],
   "source": [
    "#White collar here means the employee has a function class\n",
    "df['white_collar'] = np.where(df['fn_class'].notnull(), 1, 0)"
   ]
  },
  {
   "cell_type": "code",
   "execution_count": 39,
   "metadata": {
    "collapsed": true
   },
   "outputs": [],
   "source": [
    "#fn_class 15-18: junior -- 19-22: middle -- 23-26:senior\n",
    "df['fn_junior'] = np.where(df['fn_class'] < 19, 1, 0)\n",
    "df['fn_middle'] = np.where((df['fn_class'] >= 19) & (df['fn_class'] <= 22), 1, 0)\n",
    "df['fn_senior'] = np.where(df['fn_class'] > 22, 1, 0)"
   ]
  },
  {
   "cell_type": "code",
   "execution_count": 40,
   "metadata": {
    "collapsed": true,
    "scrolled": true
   },
   "outputs": [],
   "source": [
    "#The obj_noc variable is the average of obj and noc score, or one of them if the other is missing.\n",
    "    #We don't use it in our models, but it is convenient to have a single performance score \n",
    "    #when we do further analysis later.\n",
    "df['obj_noc'] = np.where(df['obj'].isnull() & df['noc'].notnull(), df['noc'], np.where(df['obj'].notnull() & df['noc'].isnull(), df['obj'], (df['obj']+df['noc'])/2))\n",
    "\n",
    "#Create time series variables: score from year-1, year-2 and year-3. \n",
    "    #The next score is only for analysis after the modelling.\n",
    "df['prev_obj'] = df['obj'].shift()\n",
    "df['prev_obj2'] = df['obj'].shift(periods=2)\n",
    "df['prev_obj3'] = df['obj'].shift(periods=3)\n",
    "df['next_obj'] = df['obj'].shift(periods=-1)\n",
    "\n",
    "df['prev_noc'] = df['noc'].shift()\n",
    "df['prev_noc2'] = df['noc'].shift(periods=2)\n",
    "df['prev_noc3'] = df['noc'].shift(periods=3)\n",
    "df['next_noc'] = df['noc'].shift(periods=-1)\n",
    "\n",
    "df['prev_employee_id'] = df['employee_id'].shift()\n",
    "df['prev_manager_id'] = df['manager_id'].shift()\n",
    "df['prev_fn_class'] = df['fn_class'].shift()\n",
    "df['prev_fn_area'] = df['fn_area'].shift()\n",
    "df['prev_bus_supp'] = df['bus_supp'].shift()\n",
    "df['prev_job_id'] = df['job_id'].shift()\n",
    "\n",
    "#Binary variables related to change\n",
    "df['change_manager'] = np.where((df['employee_id'] == df['prev_employee_id']) & (df['manager_id'].notnull()) & (df['prev_manager_id'].notnull()) & (df['manager_id'] != df['prev_manager_id']), 1, 0)\n",
    "df['change_fn_class'] = np.where((df['employee_id'] == df['prev_employee_id']) & (df['fn_class'].notnull()) & (df['prev_fn_class'].notnull()) & (df['fn_class'] > df['prev_fn_class']), 1, 0)\n",
    "df['change_fn_area'] = np.where((df['employee_id'] == df['prev_employee_id']) & (df['fn_area'] != 'Not assigned') & (df['prev_fn_area'] != 'Not assigned') & (df['fn_area'] != df['prev_fn_area']), 1, 0)\n",
    "df['change_bus_supp'] = np.where((df['employee_id'] == df['prev_employee_id']) & (df['bus_supp'] != 'Unknown') & (df['prev_bus_supp'] != 'Unknown') & (df['bus_supp'] != df['prev_bus_supp']), 1, 0)\n",
    "df['change_job'] = np.where((df['employee_id'] == df['prev_employee_id']) & (df['job_id'] != 'be56b1a06b8ca176c8da6514bfcb1054') & (df['prev_job_id'] != 'be56b1a06b8ca176c8da6514bfcb1054') & (df['job_id'] != df['prev_job_id']), 1, 0)\n",
    "\n",
    "#A neccesary step to clean up after using shifting column\n",
    "for i in ['prev_obj', 'prev_noc', 'prev_manager_id', 'prev_job_id', 'prev_fn_class', 'prev_fn_area']:\n",
    "    df[i] = np.where(df['employee_id'] != df['prev_employee_id'], np.nan, df[i])\n",
    "\n",
    "#Shifting columns for year-2, year-3\n",
    "for i in range(2,4):\n",
    "    prev_id = 'prev_employee_id' + str(i)\n",
    "    prev_obj = 'prev_obj' + str(i)\n",
    "    prev_noc = 'prev_noc' + str(i)\n",
    "    df[prev_id] = df['employee_id'].shift(periods=i)\n",
    "    df[prev_obj] = np.where(df['employee_id'] != df[prev_id], np.nan, df[prev_obj])\n",
    "    df[prev_noc] = np.where(df['employee_id'] != df[prev_id], np.nan, df[prev_noc])"
   ]
  },
  {
   "cell_type": "code",
   "execution_count": 41,
   "metadata": {
    "collapsed": true
   },
   "outputs": [],
   "source": [
    "df['next_employee_id'] = df['employee_id'].shift(periods=-1)\n",
    "df['next_fn_class'] = df['fn_class'].shift(periods=-1)\n",
    "\n",
    "#This is the variable we'll use as target to predict a promotion.\n",
    "df['next_change_fn_class'] = df['change_fn_class'].shift(periods=-1)\n",
    "df['next_change_fn_class'] = np.where(df['employee_id'] != df['next_employee_id'], np.nan, df['next_change_fn_class'])\n",
    "\n",
    "df['fn_class_years'] = np.where(df['fn_class'].notnull(), 1, 0)\n",
    "\n",
    "for i in range(8):\n",
    "    df['prev_fn_class_years'] = df['fn_class_years'].shift()\n",
    "    df['fn_class_years'] = np.where((df['employee_id'] == df['prev_employee_id']) & (df['fn_class'] == df['prev_fn_class']) & (df['fn_class_years'] == df['prev_fn_class_years']), df['fn_class_years']+1, df['fn_class_years'])"
   ]
  },
  {
   "cell_type": "code",
   "execution_count": 42,
   "metadata": {
    "collapsed": true
   },
   "outputs": [],
   "source": [
    "#Create more variables showing previous performance. For example: obj_bad_years is the number of years in a row \n",
    "    #the employee had a bad obj score.\n",
    "import operator as op\n",
    "\n",
    "for i in ['obj', 'noc']:\n",
    "    for j in [('_bad_years', op.lt, op.ge), ('_avg_years', op.eq, op.ne), ('_good_years', op.gt, op.le)]:\n",
    "        col_name = i + j[0]\n",
    "        df[col_name] = np.where(df['employee_id'] == df['prev_employee_id'], 0, np.nan)\n",
    "\n",
    "        df['temp_switch'] = 1\n",
    "        for k in range(1,9):\n",
    "            df['temp_prev'] = df[i].shift(periods=k)\n",
    "            df['temp_prev_id'] = df['employee_id'].shift(periods=k)\n",
    "    \n",
    "            df[col_name] = np.where((df['employee_id'] == df['temp_prev_id']) & (df['temp_switch'] == 1) & (j[1](df['temp_prev'], 3)), df[col_name]+1, df[col_name])\n",
    "            df['temp_switch'] = np.where((df['employee_id'] == df['temp_prev_id']) & (df['temp_switch'] == 1) & (j[2](df['temp_prev'], 3)), 0, df['temp_switch'])\n",
    "        \n",
    "        df[col_name] = np.where(df[i].isnull(), np.nan, df[col_name])\n",
    "        df[col_name] = np.where((df[col_name].isnull()) & (df[i].notnull()), 0, df[col_name])"
   ]
  },
  {
   "cell_type": "code",
   "execution_count": 43,
   "metadata": {
    "collapsed": true
   },
   "outputs": [],
   "source": [
    "#Create a variable indicating whether the employee is a manager or not\n",
    "list_managers = df.groupby(['manager_id', 'year']).size().reset_index(name='yes')\n",
    "list_managers['yes'] = 1\n",
    "\n",
    "mapper = list_managers.groupby(by=['manager_id', 'year'])['yes'].count().to_dict()\n",
    "df['is_manager'] = df.set_index(['employee_id', 'year']).index.map(mapper.get)\n",
    "df['is_manager'] = np.where(df['is_manager'] == 1, 1, 0)\n",
    "\n",
    "man_emp = df[df['is_manager'] == 1]\n",
    "\n",
    "#Create a variable showing the number of employees this employee is managing\n",
    "mapper = df.groupby(by=['manager_id', 'year'])['employee_id'].count().to_dict()\n",
    "df['num_emp_managing'] = df.set_index(['employee_id', 'year']).index.map(mapper.get)\n",
    "df['num_emp_managing'] = np.where((df['num_emp_managing'].isnull()), 0, df['num_emp_managing'])\n",
    "\n",
    "#The average obj and noc score of the employees this employee is managing\n",
    "mapper = df.groupby(by=['manager_id', 'year'])['obj'].mean().to_dict()\n",
    "df['obj_emp_managing'] = df.set_index(['employee_id', 'year']).index.map(mapper.get)\n",
    "\n",
    "mapper = df.groupby(by=['manager_id', 'year'])['noc'].mean().to_dict()\n",
    "df['noc_emp_managing'] = df.set_index(['employee_id', 'year']).index.map(mapper.get)\n",
    "\n",
    "#The average scores from last years\n",
    "mapper = df.groupby(by=['manager_id', 'year'])['prev_obj'].mean().to_dict()\n",
    "df['prev_obj_emp_managing'] = df.set_index(['employee_id', 'year']).index.map(mapper.get)\n",
    "\n",
    "mapper = df.groupby(by=['manager_id', 'year'])['prev_noc'].mean().to_dict()\n",
    "df['prev_noc_emp_managing'] = df.set_index(['employee_id', 'year']).index.map(mapper.get)\n",
    "\n",
    "#The fn_class of the manager of this employee\n",
    "mapper = man_emp[['employee_id', 'year', 'fn_class']].set_index(['employee_id', 'year'])['fn_class'].to_dict()\n",
    "df['manager_fn_class'] = df.set_index(['manager_id', 'year']).index.map(mapper.get)\n",
    "\n",
    "#The last year performance of the manager of this employee\n",
    "mapper = man_emp[['employee_id', 'year', 'prev_obj']].set_index(['employee_id', 'year'])['prev_obj'].to_dict()\n",
    "df['manager_prev_obj'] = df.set_index(['manager_id', 'year']).index.map(mapper.get)\n",
    "\n",
    "mapper = man_emp[['employee_id', 'year', 'prev_noc']].set_index(['employee_id', 'year'])['prev_noc'].to_dict()\n",
    "df['manager_prev_noc'] = df.set_index(['manager_id', 'year']).index.map(mapper.get)"
   ]
  },
  {
   "cell_type": "code",
   "execution_count": 44,
   "metadata": {
    "collapsed": true,
    "scrolled": true
   },
   "outputs": [],
   "source": [
    "#Delete unneccesary columns\n",
    "df = df.drop(['prev_employee_id', 'prev_employee_id2', 'prev_employee_id3', 'prev_manager_id', 'prev_fn_class', 'prev_fn_area', 'prev_bus_supp', 'prev_job_id', 'next_employee_id', 'next_fn_class', 'prev_fn_class_years', 'temp_switch', 'temp_prev', 'temp_prev_id'], axis=1)"
   ]
  },
  {
   "cell_type": "markdown",
   "metadata": {},
   "source": [
    "#### Feature engineering: adding external economic data"
   ]
  },
  {
   "cell_type": "code",
   "execution_count": 45,
   "metadata": {
    "collapsed": true
   },
   "outputs": [],
   "source": [
    "#Adding more economic variables\n",
    "econ_data = pd.read_csv('external_data.csv', delimiter=';', decimal=',')"
   ]
  },
  {
   "cell_type": "code",
   "execution_count": 46,
   "metadata": {},
   "outputs": [
    {
     "data": {
      "text/html": [
       "<div>\n",
       "<style scoped>\n",
       "    .dataframe tbody tr th:only-of-type {\n",
       "        vertical-align: middle;\n",
       "    }\n",
       "\n",
       "    .dataframe tbody tr th {\n",
       "        vertical-align: top;\n",
       "    }\n",
       "\n",
       "    .dataframe thead th {\n",
       "        text-align: right;\n",
       "    }\n",
       "</style>\n",
       "<table border=\"1\" class=\"dataframe\">\n",
       "  <thead>\n",
       "    <tr style=\"text-align: right;\">\n",
       "      <th></th>\n",
       "      <th>year</th>\n",
       "      <th>gdp_growth_beg</th>\n",
       "      <th>gdp_growth_mid</th>\n",
       "      <th>stock_return_beg</th>\n",
       "      <th>stock_return_mid</th>\n",
       "      <th>roe</th>\n",
       "      <th>num_emp</th>\n",
       "      <th>avg_wage</th>\n",
       "      <th>medical_accident</th>\n",
       "      <th>lost_time_accident</th>\n",
       "      <th>emp_satisfaction</th>\n",
       "      <th>glassdoor</th>\n",
       "    </tr>\n",
       "  </thead>\n",
       "  <tbody>\n",
       "    <tr>\n",
       "      <th>0</th>\n",
       "      <td>2010</td>\n",
       "      <td>0.7</td>\n",
       "      <td>2.2</td>\n",
       "      <td>0.245322</td>\n",
       "      <td>0.076294</td>\n",
       "      <td>11.10</td>\n",
       "      <td>28204</td>\n",
       "      <td>71479.22281</td>\n",
       "      <td>5.10</td>\n",
       "      <td>1.60</td>\n",
       "      <td>0.77</td>\n",
       "      <td>3.857</td>\n",
       "    </tr>\n",
       "    <tr>\n",
       "      <th>1</th>\n",
       "      <td>2011</td>\n",
       "      <td>2.6</td>\n",
       "      <td>1.9</td>\n",
       "      <td>0.249583</td>\n",
       "      <td>0.357248</td>\n",
       "      <td>26.70</td>\n",
       "      <td>16785</td>\n",
       "      <td>79773.60739</td>\n",
       "      <td>4.80</td>\n",
       "      <td>1.60</td>\n",
       "      <td>0.77</td>\n",
       "      <td>3.750</td>\n",
       "    </tr>\n",
       "    <tr>\n",
       "      <th>2</th>\n",
       "      <td>2012</td>\n",
       "      <td>1.7</td>\n",
       "      <td>1.9</td>\n",
       "      <td>0.156313</td>\n",
       "      <td>-0.159330</td>\n",
       "      <td>4.30</td>\n",
       "      <td>29121</td>\n",
       "      <td>48830.74070</td>\n",
       "      <td>2.90</td>\n",
       "      <td>0.80</td>\n",
       "      <td>0.77</td>\n",
       "      <td>3.750</td>\n",
       "    </tr>\n",
       "    <tr>\n",
       "      <th>3</th>\n",
       "      <td>2013</td>\n",
       "      <td>1.9</td>\n",
       "      <td>1.1</td>\n",
       "      <td>0.009012</td>\n",
       "      <td>0.078667</td>\n",
       "      <td>9.80</td>\n",
       "      <td>29103</td>\n",
       "      <td>79098.37474</td>\n",
       "      <td>2.59</td>\n",
       "      <td>0.81</td>\n",
       "      <td>0.72</td>\n",
       "      <td>3.750</td>\n",
       "    </tr>\n",
       "    <tr>\n",
       "      <th>4</th>\n",
       "      <td>2014</td>\n",
       "      <td>1.1</td>\n",
       "      <td>0.4</td>\n",
       "      <td>0.252949</td>\n",
       "      <td>0.093402</td>\n",
       "      <td>4.23</td>\n",
       "      <td>27146</td>\n",
       "      <td>78943.49075</td>\n",
       "      <td>1.06</td>\n",
       "      <td>0.80</td>\n",
       "      <td>0.72</td>\n",
       "      <td>3.667</td>\n",
       "    </tr>\n",
       "    <tr>\n",
       "      <th>5</th>\n",
       "      <td>2015</td>\n",
       "      <td>0.5</td>\n",
       "      <td>0.8</td>\n",
       "      <td>0.045056</td>\n",
       "      <td>0.004547</td>\n",
       "      <td>1.11</td>\n",
       "      <td>25909</td>\n",
       "      <td>76807.28704</td>\n",
       "      <td>0.97</td>\n",
       "      <td>0.98</td>\n",
       "      <td>0.75</td>\n",
       "      <td>3.833</td>\n",
       "    </tr>\n",
       "    <tr>\n",
       "      <th>6</th>\n",
       "      <td>2016</td>\n",
       "      <td>1.5</td>\n",
       "      <td>2.4</td>\n",
       "      <td>-0.075295</td>\n",
       "      <td>-0.235294</td>\n",
       "      <td>4.82</td>\n",
       "      <td>26350</td>\n",
       "      <td>77457.30550</td>\n",
       "      <td>0.77</td>\n",
       "      <td>0.75</td>\n",
       "      <td>0.77</td>\n",
       "      <td>3.703</td>\n",
       "    </tr>\n",
       "    <tr>\n",
       "      <th>7</th>\n",
       "      <td>2017</td>\n",
       "      <td>1.9</td>\n",
       "      <td>1.6</td>\n",
       "      <td>-0.155287</td>\n",
       "      <td>0.315495</td>\n",
       "      <td>6.39</td>\n",
       "      <td>27030</td>\n",
       "      <td>89974.10285</td>\n",
       "      <td>0.77</td>\n",
       "      <td>0.76</td>\n",
       "      <td>0.75</td>\n",
       "      <td>3.798</td>\n",
       "    </tr>\n",
       "  </tbody>\n",
       "</table>\n",
       "</div>"
      ],
      "text/plain": [
       "   year  gdp_growth_beg  gdp_growth_mid  stock_return_beg  stock_return_mid  \\\n",
       "0  2010             0.7             2.2          0.245322          0.076294   \n",
       "1  2011             2.6             1.9          0.249583          0.357248   \n",
       "2  2012             1.7             1.9          0.156313         -0.159330   \n",
       "3  2013             1.9             1.1          0.009012          0.078667   \n",
       "4  2014             1.1             0.4          0.252949          0.093402   \n",
       "5  2015             0.5             0.8          0.045056          0.004547   \n",
       "6  2016             1.5             2.4         -0.075295         -0.235294   \n",
       "7  2017             1.9             1.6         -0.155287          0.315495   \n",
       "\n",
       "     roe  num_emp     avg_wage  medical_accident  lost_time_accident  \\\n",
       "0  11.10    28204  71479.22281              5.10                1.60   \n",
       "1  26.70    16785  79773.60739              4.80                1.60   \n",
       "2   4.30    29121  48830.74070              2.90                0.80   \n",
       "3   9.80    29103  79098.37474              2.59                0.81   \n",
       "4   4.23    27146  78943.49075              1.06                0.80   \n",
       "5   1.11    25909  76807.28704              0.97                0.98   \n",
       "6   4.82    26350  77457.30550              0.77                0.75   \n",
       "7   6.39    27030  89974.10285              0.77                0.76   \n",
       "\n",
       "   emp_satisfaction  glassdoor  \n",
       "0              0.77      3.857  \n",
       "1              0.77      3.750  \n",
       "2              0.77      3.750  \n",
       "3              0.72      3.750  \n",
       "4              0.72      3.667  \n",
       "5              0.75      3.833  \n",
       "6              0.77      3.703  \n",
       "7              0.75      3.798  "
      ]
     },
     "execution_count": 46,
     "metadata": {},
     "output_type": "execute_result"
    }
   ],
   "source": [
    "econ_data"
   ]
  },
  {
   "cell_type": "code",
   "execution_count": 47,
   "metadata": {
    "collapsed": true
   },
   "outputs": [],
   "source": [
    "df = pd.merge(df, econ_data, how='left', on=['year'])"
   ]
  },
  {
   "cell_type": "code",
   "execution_count": 50,
   "metadata": {
    "collapsed": true
   },
   "outputs": [],
   "source": [
    "df.to_csv('dataset_imputed.csv', index=False)"
   ]
  },
  {
   "cell_type": "code",
   "execution_count": null,
   "metadata": {
    "collapsed": true
   },
   "outputs": [],
   "source": []
  }
 ],
 "metadata": {
  "kernelspec": {
   "display_name": "Python 3",
   "language": "python",
   "name": "python3"
  },
  "language_info": {
   "codemirror_mode": {
    "name": "ipython",
    "version": 3
   },
   "file_extension": ".py",
   "mimetype": "text/x-python",
   "name": "python",
   "nbconvert_exporter": "python",
   "pygments_lexer": "ipython3",
   "version": "3.6.1"
  }
 },
 "nbformat": 4,
 "nbformat_minor": 2
}
